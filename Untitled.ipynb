{
 "cells": [
  {
   "cell_type": "code",
   "execution_count": 24,
   "id": "cc71adb0-86ce-4a3a-b4f6-17716395394e",
   "metadata": {},
   "outputs": [
    {
     "name": "stdout",
     "output_type": "stream",
     "text": [
      "7 1032210894 CET4063B 1 0.993183780184103\n",
      "8 1032210894 CET4063B 2 1.0000000000000007\n",
      "9 1032210894 CET4063B 3 0.9978955713576187\n",
      "10 1032210894 CET4063B 4 0.9999999999999949\n"
     ]
    }
   ],
   "source": [
    "import sqlite3\n",
    "\n",
    "conn = sqlite3.connect('student_answers.db')\n",
    "cursor = conn.cursor()\n",
    "\n",
    "cursor.execute(\"SELECT * FROM answer_sheets1\")\n",
    "rows = cursor.fetchall()\n",
    "\n",
    "for row in rows:\n",
    "    id, prn, sub, qno, score, img = row\n",
    "    print(id, prn, sub, qno, score)"
   ]
  },
  {
   "cell_type": "code",
   "execution_count": 21,
   "id": "eec05566-4c15-40e0-86da-b1c0992f0c14",
   "metadata": {},
   "outputs": [],
   "source": [
    "for i in range(20,24):\n",
    "    cursor.execute(f\"delete from answer_sheets1 where id ={i}\")\n",
    "    conn.commit()"
   ]
  },
  {
   "cell_type": "code",
   "execution_count": null,
   "id": "ec0486f8-2998-4fc9-95e0-2a61a0805400",
   "metadata": {},
   "outputs": [],
   "source": []
  }
 ],
 "metadata": {
  "kernelspec": {
   "display_name": "Python 3 (ipykernel)",
   "language": "python",
   "name": "python3"
  },
  "language_info": {
   "codemirror_mode": {
    "name": "ipython",
    "version": 3
   },
   "file_extension": ".py",
   "mimetype": "text/x-python",
   "name": "python",
   "nbconvert_exporter": "python",
   "pygments_lexer": "ipython3",
   "version": "3.9.21"
  }
 },
 "nbformat": 4,
 "nbformat_minor": 5
}
